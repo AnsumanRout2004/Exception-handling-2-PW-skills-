{
 "cells": [
  {
   "cell_type": "code",
   "execution_count": 2,
   "id": "14fb4d0b-b5cd-4f30-9140-ceda498e633a",
   "metadata": {},
   "outputs": [
    {
     "name": "stdout",
     "output_type": "stream",
     "text": [
      "Caught: This is a custom exception\n"
     ]
    }
   ],
   "source": [
    "\"\"\"\n",
    "Q1. Explain why we have to use the Exception class while creating a Custom Exception.\n",
    "\n",
    "In Python, the built-in Exception class serves as the base class for all exceptions. When creating a custom exception, we inherit from Exception to ensure our custom exception behaves like a standard Python exception. This allows it to be caught using `except Exception:` and integrates seamlessly with Python's error-handling mechanisms.\n",
    "\n",
    "Example:\n",
    "\"\"\"\n",
    "\n",
    "# Custom Exception Example\n",
    "class CustomError(Exception):\n",
    "    \"\"\"A custom exception class\"\"\"\n",
    "    def __init__(self, message):\n",
    "        self.message = message\n",
    "        super().__init__(self.message)\n",
    "\n",
    "try:\n",
    "    raise CustomError(\"This is a custom exception\")\n",
    "except CustomError as e:\n",
    "    print(f\"Caught: {e}\")\n",
    "\n",
    "\n",
    "\n",
    "\n",
    "\n"
   ]
  },
  {
   "cell_type": "code",
   "execution_count": 6,
   "id": "f25d5552-0b36-41ef-a708-5a0f3ad8fce3",
   "metadata": {},
   "outputs": [
    {
     "ename": "SyntaxError",
     "evalue": "unterminated triple-quoted string literal (detected at line 11) (1452083627.py, line 2)",
     "output_type": "error",
     "traceback": [
      "\u001b[1;36m  Cell \u001b[1;32mIn[6], line 2\u001b[1;36m\u001b[0m\n\u001b[1;33m    \"\"\"\u001b[0m\n\u001b[1;37m    ^\u001b[0m\n\u001b[1;31mSyntaxError\u001b[0m\u001b[1;31m:\u001b[0m unterminated triple-quoted string literal (detected at line 11)\n"
     ]
    }
   ],
   "source": [
    "\n",
    "Q2. Write a Python program to print Python Exception Hierarchy.\n",
    "\"\"\"==\n",
    "\n",
    "def print_exception_hierarchy(base, level=0):\n",
    "    print(\"  \" * level + base.__name__)\n",
    "    for subclass in base.__subclasses__():\n",
    "        print_exception_hierarchy(subclass, level + 1)\n",
    "\n",
    "# Printing Exception Hierarchy\n",
    "print_exception_hierarchy(BaseException)\n",
    "\n"
   ]
  },
  {
   "cell_type": "code",
   "execution_count": null,
   "id": "66733071-9ce6-47a3-b124-4831097bc899",
   "metadata": {},
   "outputs": [],
   "source": [
    "Q3. What errors are defined in the ArithmeticError class? Explain any two with an example.\n",
    "\n",
    "ArithmeticError is the base class for errors related to numerical calculations. Some of its subclasses include:\n",
    "1. ZeroDivisionError\n",
    "2. OverflowError\n",
    "3. FloatingPointError\n",
    "\n",
    "Example of ZeroDivisionError:\n",
    "\"\"\"\n",
    "try:\n",
    "    result = 10 / 0  # Division by zero\n",
    "except ZeroDivisionError as e:\n",
    "    print(f\"Caught an error: {e}\")\n",
    "\n",
    "\"\"\"\n",
    "Example of OverflowError:\n",
    "\"\"\"\n",
    "import math\n",
    "try:\n",
    "    result = math.exp(1000)  # Exceeds floating-point limit\n",
    "except OverflowError as e:\n",
    "    print(f\"Caught an error: {e}\")\n",
    "\n",
    "\"\"\""
   ]
  },
  {
   "cell_type": "code",
   "execution_count": null,
   "id": "30ca8699-0384-412c-b22b-7d47f3827df1",
   "metadata": {},
   "outputs": [],
   "source": [
    "\n",
    "Q4. Why LookupError class is used? Explain with an example KeyError and IndexError.\n",
    "\n",
    "LookupError is the base class for errors related to invalid key or index access in sequences and dictionaries.\n",
    "\n",
    "Example of KeyError:\n",
    "\"\"\"\n",
    "try:\n",
    "    my_dict = {\"a\": 1, \"b\": 2}\n",
    "    print(my_dict[\"c\"])  # Key does not exist\n",
    "except KeyError as e:\n",
    "    print(f\"Caught a KeyError: {e}\")\n",
    "\n",
    "\"\"\"\n",
    "Example of IndexError:\n",
    "\"\"\"\n",
    "try:\n",
    "    my_list = [1, 2, 3]\n",
    "    print(my_list[5])  # Index out of range\n",
    "except IndexError as e:\n",
    "    print(f\"Caught an IndexError: {e}\")\n",
    "\n",
    "\"\"\""
   ]
  },
  {
   "cell_type": "code",
   "execution_count": null,
   "id": "0760e2f3-ef75-4993-ae27-8968bac533ef",
   "metadata": {},
   "outputs": [],
   "source": [
    "Q5. Explain ImportError. What is ModuleNotFoundError?\n",
    "\n",
    "ImportError occurs when an import statement fails to find the specified module or when an imported module fails to initialize properly.\n",
    "\n",
    "ModuleNotFoundError is a subclass of ImportError that specifically occurs when a module cannot be found.\n",
    "\n",
    "Example of ModuleNotFoundError:\n",
    "\"\"\"\n",
    "try:\n",
    "    import non_existent_module\n",
    "except ModuleNotFoundError as e:\n",
    "    print(f\"Caught a ModuleNotFoundError: {e}\")\n",
    "\n",
    "\"\"\""
   ]
  },
  {
   "cell_type": "code",
   "execution_count": null,
   "id": "3b6a8deb-b5a5-4019-8c74-eb2432c1130e",
   "metadata": {},
   "outputs": [],
   "source": [
    "Q6. List down some best practices for exception handling in Python.\n",
    "\n",
    "1. Use specific exception types instead of a generic `except Exception:`\n",
    "2. Avoid catching all exceptions using `except:` as it may hide real issues\n",
    "3. Use `finally` to release resources like files or database connections\n",
    "4. Log exceptions for debugging purposes\n",
    "5. Raise exceptions with meaningful messages\n",
    "6. Use `with` statements for resource management\n",
    "7. Keep try blocks minimal to avoid catching unintended errors\n",
    "\"\"\""
   ]
  },
  {
   "cell_type": "code",
   "execution_count": null,
   "id": "9e5d0f69-39b7-445d-bfe5-f4c19b01a5c1",
   "metadata": {},
   "outputs": [],
   "source": []
  },
  {
   "cell_type": "code",
   "execution_count": null,
   "id": "8eff84c8-3ee0-46f8-9c91-ba9080e7b67b",
   "metadata": {},
   "outputs": [],
   "source": []
  },
  {
   "cell_type": "code",
   "execution_count": null,
   "id": "a21d8170-de9b-4aa0-a9b6-1981b9a271c8",
   "metadata": {},
   "outputs": [],
   "source": []
  },
  {
   "cell_type": "code",
   "execution_count": null,
   "id": "f7b6737d-a216-454d-9793-26e2115af15f",
   "metadata": {},
   "outputs": [],
   "source": []
  },
  {
   "cell_type": "code",
   "execution_count": null,
   "id": "f79e17c0-f16c-4f59-9627-6932c76f910b",
   "metadata": {},
   "outputs": [],
   "source": []
  }
 ],
 "metadata": {
  "kernelspec": {
   "display_name": "Python [conda env:base] *",
   "language": "python",
   "name": "conda-base-py"
  },
  "language_info": {
   "codemirror_mode": {
    "name": "ipython",
    "version": 3
   },
   "file_extension": ".py",
   "mimetype": "text/x-python",
   "name": "python",
   "nbconvert_exporter": "python",
   "pygments_lexer": "ipython3",
   "version": "3.11.7"
  }
 },
 "nbformat": 4,
 "nbformat_minor": 5
}
